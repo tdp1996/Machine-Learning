{
 "cells": [
  {
   "cell_type": "code",
   "execution_count": 28,
   "metadata": {},
   "outputs": [
    {
     "name": "stdout",
     "output_type": "stream",
     "text": [
      "The autoreload extension is already loaded. To reload it, use:\n",
      "  %reload_ext autoreload\n"
     ]
    }
   ],
   "source": [
    "# To make debugging of logistic_regression module easier we enable imported modules autoreloading feature.\n",
    "# By doing this you may change the code of logistic_regression library and all these changes will be available here.\n",
    "%load_ext autoreload\n",
    "%autoreload 2\n",
    "\n",
    "# Add project root folder to module loading paths.\n",
    "import sys\n",
    "sys.path.append('../..')"
   ]
  },
  {
   "cell_type": "markdown",
   "metadata": {},
   "source": [
    "### Import Dependencies"
   ]
  },
  {
   "cell_type": "code",
   "execution_count": 29,
   "metadata": {},
   "outputs": [],
   "source": [
    "# Import 3rd party dependencies.\n",
    "import pandas as pd\n",
    "from sklearn.model_selection import train_test_split\n",
    "\n",
    "# Import custom logistic regression implementation.\n",
    "from homemade.utils.metrics import Metrics\n",
    "from homemade.utils.array import Array\n",
    "from homemade.logistic_regression.logistic_regression import LogisticRegression"
   ]
  },
  {
   "cell_type": "markdown",
   "metadata": {},
   "source": [
    "### Load the Data"
   ]
  },
  {
   "cell_type": "code",
   "execution_count": 30,
   "metadata": {},
   "outputs": [
    {
     "data": {
      "text/html": [
       "<div>\n",
       "<style scoped>\n",
       "    .dataframe tbody tr th:only-of-type {\n",
       "        vertical-align: middle;\n",
       "    }\n",
       "\n",
       "    .dataframe tbody tr th {\n",
       "        vertical-align: top;\n",
       "    }\n",
       "\n",
       "    .dataframe thead th {\n",
       "        text-align: right;\n",
       "    }\n",
       "</style>\n",
       "<table border=\"1\" class=\"dataframe\">\n",
       "  <thead>\n",
       "    <tr style=\"text-align: right;\">\n",
       "      <th></th>\n",
       "      <th>X1</th>\n",
       "      <th>X2</th>\n",
       "      <th>X3</th>\n",
       "      <th>X4</th>\n",
       "      <th>X5</th>\n",
       "      <th>label</th>\n",
       "    </tr>\n",
       "  </thead>\n",
       "  <tbody>\n",
       "    <tr>\n",
       "      <th>0</th>\n",
       "      <td>-2.250270</td>\n",
       "      <td>-1.646135</td>\n",
       "      <td>1.436570</td>\n",
       "      <td>-0.972041</td>\n",
       "      <td>1.643378</td>\n",
       "      <td>2</td>\n",
       "    </tr>\n",
       "    <tr>\n",
       "      <th>1</th>\n",
       "      <td>-1.785269</td>\n",
       "      <td>-0.565972</td>\n",
       "      <td>1.346475</td>\n",
       "      <td>-1.806297</td>\n",
       "      <td>-1.176173</td>\n",
       "      <td>2</td>\n",
       "    </tr>\n",
       "    <tr>\n",
       "      <th>2</th>\n",
       "      <td>1.589542</td>\n",
       "      <td>0.796631</td>\n",
       "      <td>-1.328454</td>\n",
       "      <td>-2.148804</td>\n",
       "      <td>-0.831955</td>\n",
       "      <td>1</td>\n",
       "    </tr>\n",
       "    <tr>\n",
       "      <th>3</th>\n",
       "      <td>1.832943</td>\n",
       "      <td>-0.284234</td>\n",
       "      <td>-1.907732</td>\n",
       "      <td>-1.425174</td>\n",
       "      <td>1.318302</td>\n",
       "      <td>0</td>\n",
       "    </tr>\n",
       "    <tr>\n",
       "      <th>4</th>\n",
       "      <td>1.012438</td>\n",
       "      <td>0.080761</td>\n",
       "      <td>-0.998305</td>\n",
       "      <td>-1.293794</td>\n",
       "      <td>-0.916274</td>\n",
       "      <td>0</td>\n",
       "    </tr>\n",
       "    <tr>\n",
       "      <th>5</th>\n",
       "      <td>1.164023</td>\n",
       "      <td>1.780825</td>\n",
       "      <td>-0.450353</td>\n",
       "      <td>-0.272858</td>\n",
       "      <td>-0.049029</td>\n",
       "      <td>1</td>\n",
       "    </tr>\n",
       "    <tr>\n",
       "      <th>6</th>\n",
       "      <td>1.881237</td>\n",
       "      <td>-0.825735</td>\n",
       "      <td>-2.143935</td>\n",
       "      <td>-1.297455</td>\n",
       "      <td>-0.361463</td>\n",
       "      <td>0</td>\n",
       "    </tr>\n",
       "    <tr>\n",
       "      <th>7</th>\n",
       "      <td>0.841014</td>\n",
       "      <td>-1.028548</td>\n",
       "      <td>-1.225741</td>\n",
       "      <td>-0.972856</td>\n",
       "      <td>1.276965</td>\n",
       "      <td>0</td>\n",
       "    </tr>\n",
       "    <tr>\n",
       "      <th>8</th>\n",
       "      <td>0.127641</td>\n",
       "      <td>-2.144851</td>\n",
       "      <td>-0.930062</td>\n",
       "      <td>-0.348827</td>\n",
       "      <td>-0.593811</td>\n",
       "      <td>0</td>\n",
       "    </tr>\n",
       "    <tr>\n",
       "      <th>9</th>\n",
       "      <td>0.855492</td>\n",
       "      <td>-0.663649</td>\n",
       "      <td>-1.105884</td>\n",
       "      <td>-0.985451</td>\n",
       "      <td>0.453509</td>\n",
       "      <td>0</td>\n",
       "    </tr>\n",
       "  </tbody>\n",
       "</table>\n",
       "</div>"
      ],
      "text/plain": [
       "         X1        X2        X3        X4        X5  label\n",
       "0 -2.250270 -1.646135  1.436570 -0.972041  1.643378      2\n",
       "1 -1.785269 -0.565972  1.346475 -1.806297 -1.176173      2\n",
       "2  1.589542  0.796631 -1.328454 -2.148804 -0.831955      1\n",
       "3  1.832943 -0.284234 -1.907732 -1.425174  1.318302      0\n",
       "4  1.012438  0.080761 -0.998305 -1.293794 -0.916274      0\n",
       "5  1.164023  1.780825 -0.450353 -0.272858 -0.049029      1\n",
       "6  1.881237 -0.825735 -2.143935 -1.297455 -0.361463      0\n",
       "7  0.841014 -1.028548 -1.225741 -0.972856  1.276965      0\n",
       "8  0.127641 -2.144851 -0.930062 -0.348827 -0.593811      0\n",
       "9  0.855492 -0.663649 -1.105884 -0.985451  0.453509      0"
      ]
     },
     "execution_count": 30,
     "metadata": {},
     "output_type": "execute_result"
    }
   ],
   "source": [
    "# Load the data.\n",
    "data = pd.read_csv('../../data/multiclass_classification_data.csv')\n",
    "\n",
    "# Print the data table.\n",
    "data.head(10)"
   ]
  },
  {
   "cell_type": "code",
   "execution_count": 31,
   "metadata": {},
   "outputs": [],
   "source": [
    "# Split data into features (X) và target (y)\n",
    "X = data.drop(\"label\", axis=1)\n",
    "y = data[\"label\"]\n",
    "\n",
    "# Divide into training and test sets\n",
    "x_train, x_test, y_train, y_test = train_test_split(X, y, test_size=0.2, random_state=42)"
   ]
  },
  {
   "cell_type": "code",
   "execution_count": 40,
   "metadata": {},
   "outputs": [
    {
     "name": "stdout",
     "output_type": "stream",
     "text": [
      "Start training\n",
      "Final parameters: Cost: 0.2574718051621523, model parameters: [(Array([0.9786221330622762, -1.7731010799595366, -1.8192728160335179, 0.3523868519661082, 0.0024734065420297198]), -1.2168045075500697), (Array([0.6279890565579888, 3.0154080838386386, 0.571290884666473, 0.5534205028915334, 0.1465800567208011]), -1.2833638725710985), (Array([-1.6287725779370237, -0.7926911530385427, 1.4563980837557797, -0.9636313235115346, -0.17315642899519632]), -1.1565830474933199)]\n"
     ]
    }
   ],
   "source": [
    "# prepare data for training\n",
    "X_train = Array(x_train.values.tolist())\n",
    "Y_train = Array(y_train.values.tolist())\n",
    "X_test = Array(x_test.values.tolist())\n",
    "Y_test = Array(y_test.values.tolist())\n",
    "\n",
    "# Set up logistic regression parameters.\n",
    "learning_rate = 0.01\n",
    "iterations = 10000\n",
    "# Init logistic regression instance.\n",
    "logistic_regression = LogisticRegression(X_train, Y_train)\n",
    "\n",
    "# Train logistic regression.\n",
    "model_params = logistic_regression.train(learning_rate, iterations)"
   ]
  },
  {
   "cell_type": "markdown",
   "metadata": {},
   "source": [
    "### Evaluate the accuracy of trained model"
   ]
  },
  {
   "cell_type": "code",
   "execution_count": 37,
   "metadata": {},
   "outputs": [
    {
     "name": "stdout",
     "output_type": "stream",
     "text": [
      "f1 score: 0.920353982300885, accuracy score: 0.84\n"
     ]
    }
   ],
   "source": [
    "# predict with test set\n",
    "y_predictions = logistic_regression.predict(X_test, model_params)\n",
    "\n",
    "# calculate f1 score, accuracy_score\n",
    "f1_score = Metrics.f1_score(Y_test, y_predictions)\n",
    "accuracy_score = Metrics.accuracy_score(Y_test, y_predictions)\n",
    "print(f\"f1 score: {f1_score}, accuracy score: {accuracy_score}\")\n"
   ]
  }
 ],
 "metadata": {
  "kernelspec": {
   "display_name": "machine_learning",
   "language": "python",
   "name": "python3"
  },
  "language_info": {
   "codemirror_mode": {
    "name": "ipython",
    "version": 3
   },
   "file_extension": ".py",
   "mimetype": "text/x-python",
   "name": "python",
   "nbconvert_exporter": "python",
   "pygments_lexer": "ipython3",
   "version": "3.10.14"
  }
 },
 "nbformat": 4,
 "nbformat_minor": 2
}
